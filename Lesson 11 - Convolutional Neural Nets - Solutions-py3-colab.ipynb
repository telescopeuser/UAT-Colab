{
  "nbformat": 4,
  "nbformat_minor": 0,
  "metadata": {
    "colab": {
      "name": "Lesson 11 - Convolutional Neural Nets - Solutions-py3-colab.ipynb",
      "version": "0.3.2",
      "views": {},
      "default_view": {},
      "provenance": [],
      "collapsed_sections": []
    },
    "kernelspec": {
      "display_name": "Python 3",
      "language": "python",
      "name": "python3"
    },
    "accelerator": "GPU"
  },
  "cells": [
    {
      "metadata": {
        "id": "TD7NmBaqIR8h",
        "colab_type": "text"
      },
      "cell_type": "markdown",
      "source": [
        "# Convolutional Neural Nets\n",
        "\n",
        "This type of neural nets are predominantly (and heavily) used in image processing.\n",
        "https://www.youtube.com/watch?v=BcEapJEKz3M\n",
        "\n",
        "## Useful terms:\n",
        "\n",
        "1. Convolution\n",
        "2. Max pooling\n",
        "2. Softmax\n",
        "3. Cross Entropy\n",
        "\n",
        "## Further Readings:\n",
        "https://ujjwalkarn.me/2016/08/11/intuitive-explanation-convnets/"
      ]
    },
    {
      "metadata": {
        "id": "gk0dZc1YIR8i",
        "colab_type": "code",
        "colab": {
          "autoexec": {
            "startup": false,
            "wait_interval": 0
          },
          "output_extras": [
            {
              "item_id": 1
            },
            {
              "item_id": 3
            }
          ],
          "base_uri": "https://localhost:8080/",
          "height": 168
        },
        "outputId": "d9871c81-56ae-4e61-e2c1-4157728c29df",
        "executionInfo": {
          "status": "ok",
          "timestamp": 1521192372235,
          "user_tz": -480,
          "elapsed": 3064,
          "user": {
            "displayName": "iss gz",
            "photoUrl": "https://lh3.googleusercontent.com/a/default-user=s128",
            "userId": "115773849606138325373"
          }
        }
      },
      "cell_type": "code",
      "source": [
        "%matplotlib inline\n",
        "import matplotlib.pyplot as plt\n",
        "\n",
        "from tensorflow.examples.tutorials.mnist import input_data\n",
        "\n",
        "import numpy as np\n",
        "from keras.models import Sequential\n",
        "from keras.layers import Dense, Activation, Conv2D, MaxPool2D, Flatten\n",
        "\n",
        "from sklearn.preprocessing import StandardScaler\n",
        "\n",
        "from sklearn.linear_model import LogisticRegression\n",
        "\n",
        "mnist = input_data.read_data_sets('./data')"
      ],
      "execution_count": 1,
      "outputs": [
        {
          "output_type": "stream",
          "text": [
            "Using TensorFlow backend.\n"
          ],
          "name": "stderr"
        },
        {
          "output_type": "stream",
          "text": [
            "Successfully downloaded train-images-idx3-ubyte.gz 9912422 bytes.\n",
            "Extracting ./data/train-images-idx3-ubyte.gz\n",
            "Successfully downloaded train-labels-idx1-ubyte.gz 28881 bytes.\n",
            "Extracting ./data/train-labels-idx1-ubyte.gz\n",
            "Successfully downloaded t10k-images-idx3-ubyte.gz 1648877 bytes.\n",
            "Extracting ./data/t10k-images-idx3-ubyte.gz\n",
            "Successfully downloaded t10k-labels-idx1-ubyte.gz 4542 bytes.\n",
            "Extracting ./data/t10k-labels-idx1-ubyte.gz\n"
          ],
          "name": "stdout"
        }
      ]
    },
    {
      "metadata": {
        "id": "vXZP-Z9wIR8o",
        "colab_type": "code",
        "colab": {
          "autoexec": {
            "startup": false,
            "wait_interval": 0
          }
        }
      },
      "cell_type": "code",
      "source": [
        "x, y = mnist.train.next_batch(20)\n",
        "num_pixels = x.shape[1]\n",
        "width = 28\n",
        "height = 28"
      ],
      "execution_count": 0,
      "outputs": []
    },
    {
      "metadata": {
        "id": "8MRajBTgIcip",
        "colab_type": "code",
        "colab": {
          "autoexec": {
            "startup": false,
            "wait_interval": 0
          },
          "output_extras": [
            {
              "item_id": 1
            }
          ],
          "base_uri": "https://localhost:8080/",
          "height": 84
        },
        "outputId": "527d741f-a01a-42fd-881f-e2bb98dc37b5",
        "executionInfo": {
          "status": "ok",
          "timestamp": 1521192393981,
          "user_tz": -480,
          "elapsed": 1075,
          "user": {
            "displayName": "iss gz",
            "photoUrl": "https://lh3.googleusercontent.com/a/default-user=s128",
            "userId": "115773849606138325373"
          }
        }
      },
      "cell_type": "code",
      "source": [
        "!ls -l"
      ],
      "execution_count": 3,
      "outputs": [
        {
          "output_type": "stream",
          "text": [
            "total 12\r\n",
            "drwxr-xr-x 2 root root 4096 Mar 16 09:26 data\r\n",
            "drwxr-xr-x 1 root root 4096 Mar 16 09:19 datalab\r\n",
            "drwxr-xr-x 3 root root 4096 Mar 16 09:21 UAT-Colab\r\n"
          ],
          "name": "stdout"
        }
      ]
    },
    {
      "metadata": {
        "id": "2wf-DgaDIR8r",
        "colab_type": "code",
        "colab": {
          "autoexec": {
            "startup": false,
            "wait_interval": 0
          },
          "output_extras": [
            {
              "item_id": 1
            }
          ],
          "base_uri": "https://localhost:8080/",
          "height": 34
        },
        "outputId": "0bab1070-5889-4ca1-c210-4bc6c611ff83",
        "executionInfo": {
          "status": "ok",
          "timestamp": 1521192398127,
          "user_tz": -480,
          "elapsed": 797,
          "user": {
            "displayName": "iss gz",
            "photoUrl": "https://lh3.googleusercontent.com/a/default-user=s128",
            "userId": "115773849606138325373"
          }
        }
      },
      "cell_type": "code",
      "source": [
        "x.shape"
      ],
      "execution_count": 4,
      "outputs": [
        {
          "output_type": "execute_result",
          "data": {
            "text/plain": [
              "(20, 784)"
            ]
          },
          "metadata": {
            "tags": []
          },
          "execution_count": 4
        }
      ]
    },
    {
      "metadata": {
        "id": "IihPJTMlIR8u",
        "colab_type": "code",
        "colab": {
          "autoexec": {
            "startup": false,
            "wait_interval": 0
          },
          "output_extras": [
            {
              "item_id": 1
            }
          ],
          "base_uri": "https://localhost:8080/",
          "height": 34
        },
        "outputId": "df9c5167-d8a8-421a-a370-2276a42a9442",
        "executionInfo": {
          "status": "ok",
          "timestamp": 1521192400474,
          "user_tz": -480,
          "elapsed": 910,
          "user": {
            "displayName": "iss gz",
            "photoUrl": "https://lh3.googleusercontent.com/a/default-user=s128",
            "userId": "115773849606138325373"
          }
        }
      },
      "cell_type": "code",
      "source": [
        "28*28"
      ],
      "execution_count": 5,
      "outputs": [
        {
          "output_type": "execute_result",
          "data": {
            "text/plain": [
              "784"
            ]
          },
          "metadata": {
            "tags": []
          },
          "execution_count": 5
        }
      ]
    },
    {
      "metadata": {
        "id": "HJsn1G4-IR8y",
        "colab_type": "code",
        "colab": {
          "autoexec": {
            "startup": false,
            "wait_interval": 0
          },
          "output_extras": [
            {
              "item_id": 1
            }
          ],
          "base_uri": "https://localhost:8080/",
          "height": 34
        },
        "outputId": "9b262a6e-b603-420b-d051-fac4c7c16bf1",
        "executionInfo": {
          "status": "ok",
          "timestamp": 1521192401397,
          "user_tz": -480,
          "elapsed": 873,
          "user": {
            "displayName": "iss gz",
            "photoUrl": "https://lh3.googleusercontent.com/a/default-user=s128",
            "userId": "115773849606138325373"
          }
        }
      },
      "cell_type": "code",
      "source": [
        "y.shape"
      ],
      "execution_count": 6,
      "outputs": [
        {
          "output_type": "execute_result",
          "data": {
            "text/plain": [
              "(20,)"
            ]
          },
          "metadata": {
            "tags": []
          },
          "execution_count": 6
        }
      ]
    },
    {
      "metadata": {
        "id": "ExSudAMgIR80",
        "colab_type": "code",
        "colab": {
          "autoexec": {
            "startup": false,
            "wait_interval": 0
          },
          "output_extras": [
            {
              "item_id": 1
            }
          ],
          "base_uri": "https://localhost:8080/",
          "height": 51
        },
        "outputId": "911ed24e-548a-47c1-c570-45fa0f0f48bd",
        "executionInfo": {
          "status": "ok",
          "timestamp": 1521192402163,
          "user_tz": -480,
          "elapsed": 718,
          "user": {
            "displayName": "iss gz",
            "photoUrl": "https://lh3.googleusercontent.com/a/default-user=s128",
            "userId": "115773849606138325373"
          }
        }
      },
      "cell_type": "code",
      "source": [
        "y"
      ],
      "execution_count": 7,
      "outputs": [
        {
          "output_type": "execute_result",
          "data": {
            "text/plain": [
              "array([4, 9, 2, 0, 4, 3, 5, 1, 9, 0, 5, 2, 8, 4, 9, 7, 9, 7, 6, 7],\n",
              "      dtype=uint8)"
            ]
          },
          "metadata": {
            "tags": []
          },
          "execution_count": 7
        }
      ]
    },
    {
      "metadata": {
        "id": "mbCm7GF7IR82",
        "colab_type": "code",
        "colab": {
          "autoexec": {
            "startup": false,
            "wait_interval": 0
          },
          "output_extras": [
            {
              "item_id": 1
            }
          ],
          "base_uri": "https://localhost:8080/",
          "height": 265
        },
        "outputId": "140151f6-da18-49c8-e0e6-9517e6c2b6d5",
        "executionInfo": {
          "status": "ok",
          "timestamp": 1521192405707,
          "user_tz": -480,
          "elapsed": 793,
          "user": {
            "displayName": "iss gz",
            "photoUrl": "https://lh3.googleusercontent.com/a/default-user=s128",
            "userId": "115773849606138325373"
          }
        }
      },
      "cell_type": "code",
      "source": [
        "plt.imshow(x[1].reshape((28,28)),cmap='Greys')\n",
        "plt.show()"
      ],
      "execution_count": 8,
      "outputs": [
        {
          "output_type": "display_data",
          "data": {
            "image/png": "[encoded data removed]",
            "text/plain": [
              "<matplotlib.figure.Figure at 0x7f9792ac0cc0>"
            ]
          },
          "metadata": {
            "tags": []
          }
        }
      ]
    },
    {
      "metadata": {
        "id": "fN-rYrRIIR85",
        "colab_type": "text"
      },
      "cell_type": "markdown",
      "source": [
        "## Basic logistic multiclass classification:"
      ]
    },
    {
      "metadata": {
        "id": "WmRT-DsHIR85",
        "colab_type": "code",
        "colab": {
          "autoexec": {
            "startup": false,
            "wait_interval": 0
          },
          "output_extras": [
            {
              "item_id": 1
            }
          ],
          "base_uri": "https://localhost:8080/",
          "height": 265
        },
        "outputId": "aff55ab6-c25b-4fc0-bb67-10dd097ed00a",
        "executionInfo": {
          "status": "ok",
          "timestamp": 1521192407857,
          "user_tz": -480,
          "elapsed": 816,
          "user": {
            "displayName": "iss gz",
            "photoUrl": "https://lh3.googleusercontent.com/a/default-user=s128",
            "userId": "115773849606138325373"
          }
        }
      },
      "cell_type": "code",
      "source": [
        "plt.hist(x.ravel(),100)\n",
        "plt.show()"
      ],
      "execution_count": 9,
      "outputs": [
        {
          "output_type": "display_data",
          "data": {
            "image/png": "[encoded data removed]",
            "text/plain": [
              "<matplotlib.figure.Figure at 0x7f97926698d0>"
            ]
          },
          "metadata": {
            "tags": []
          }
        }
      ]
    },
    {
      "metadata": {
        "id": "ceSJSUjwIR88",
        "colab_type": "code",
        "colab": {
          "autoexec": {
            "startup": false,
            "wait_interval": 0
          }
        }
      },
      "cell_type": "code",
      "source": [
        "x_train, y_train = mnist.train.next_batch(1000)\n",
        "x_test, y_test = mnist.test.next_batch(1000)"
      ],
      "execution_count": 0,
      "outputs": []
    },
    {
      "metadata": {
        "id": "ydlXrx10IR8-",
        "colab_type": "code",
        "colab": {
          "autoexec": {
            "startup": false,
            "wait_interval": 0
          },
          "output_extras": [
            {
              "item_id": 1
            }
          ],
          "base_uri": "https://localhost:8080/",
          "height": 84
        },
        "outputId": "868279cd-eacd-4d80-98e5-6edef4895c19",
        "executionInfo": {
          "status": "ok",
          "timestamp": 1521192410306,
          "user_tz": -480,
          "elapsed": 799,
          "user": {
            "displayName": "iss gz",
            "photoUrl": "https://lh3.googleusercontent.com/a/default-user=s128",
            "userId": "115773849606138325373"
          }
        }
      },
      "cell_type": "code",
      "source": [
        "logistic = LogisticRegression()\n",
        "logistic.fit(x_train, y_train)"
      ],
      "execution_count": 11,
      "outputs": [
        {
          "output_type": "execute_result",
          "data": {
            "text/plain": [
              "LogisticRegression(C=1.0, class_weight=None, dual=False, fit_intercept=True,\n",
              "          intercept_scaling=1, max_iter=100, multi_class='ovr', n_jobs=1,\n",
              "          penalty='l2', random_state=None, solver='liblinear', tol=0.0001,\n",
              "          verbose=0, warm_start=False)"
            ]
          },
          "metadata": {
            "tags": []
          },
          "execution_count": 11
        }
      ]
    },
    {
      "metadata": {
        "id": "g_HHQ9OdIR9A",
        "colab_type": "code",
        "colab": {
          "autoexec": {
            "startup": false,
            "wait_interval": 0
          },
          "output_extras": [
            {
              "item_id": 1
            }
          ],
          "base_uri": "https://localhost:8080/",
          "height": 34
        },
        "outputId": "c405d882-89e7-4fe6-b80e-9ceb9f4716c2",
        "executionInfo": {
          "status": "ok",
          "timestamp": 1521192413346,
          "user_tz": -480,
          "elapsed": 967,
          "user": {
            "displayName": "iss gz",
            "photoUrl": "https://lh3.googleusercontent.com/a/default-user=s128",
            "userId": "115773849606138325373"
          }
        }
      },
      "cell_type": "code",
      "source": [
        "y_pred = logistic.predict(x_test)\n",
        "y_pred[:10]"
      ],
      "execution_count": 12,
      "outputs": [
        {
          "output_type": "execute_result",
          "data": {
            "text/plain": [
              "array([0, 8, 4, 0, 7, 2, 3, 7, 3, 5], dtype=uint8)"
            ]
          },
          "metadata": {
            "tags": []
          },
          "execution_count": 12
        }
      ]
    },
    {
      "metadata": {
        "id": "firmt0TQIR9E",
        "colab_type": "text"
      },
      "cell_type": "markdown",
      "source": [
        "Predicting the probabilities for the first 3 images:"
      ]
    },
    {
      "metadata": {
        "id": "NEm4ZcV2IR9E",
        "colab_type": "code",
        "colab": {
          "autoexec": {
            "startup": false,
            "wait_interval": 0
          },
          "output_extras": [
            {
              "item_id": 1
            }
          ],
          "base_uri": "https://localhost:8080/",
          "height": 168
        },
        "outputId": "6f841234-6a0b-402d-f1a9-75b30dadf04b",
        "executionInfo": {
          "status": "ok",
          "timestamp": 1521192414220,
          "user_tz": -480,
          "elapsed": 829,
          "user": {
            "displayName": "iss gz",
            "photoUrl": "https://lh3.googleusercontent.com/a/default-user=s128",
            "userId": "115773849606138325373"
          }
        }
      },
      "cell_type": "code",
      "source": [
        "logistic.predict_proba(x_test[:3])"
      ],
      "execution_count": 13,
      "outputs": [
        {
          "output_type": "execute_result",
          "data": {
            "text/plain": [
              "array([[7.76330792e-01, 4.76171404e-07, 1.18946945e-02, 1.90657914e-01,\n",
              "        8.27353357e-09, 1.92090789e-02, 2.61889083e-04, 1.22210213e-06,\n",
              "        8.98215801e-04, 7.45708938e-04],\n",
              "       [1.43206447e-05, 2.96364263e-05, 2.23331563e-06, 7.37249626e-06,\n",
              "        3.31048038e-01, 2.47741466e-01, 3.11530633e-04, 2.89511019e-05,\n",
              "        4.18744949e-01, 2.07150210e-03],\n",
              "       [2.63419922e-04, 2.34205361e-03, 2.76077160e-04, 7.65056949e-04,\n",
              "        9.13527559e-01, 6.48798212e-04, 1.13996295e-02, 2.18637273e-03,\n",
              "        1.32514388e-03, 6.72658887e-02]])"
            ]
          },
          "metadata": {
            "tags": []
          },
          "execution_count": 13
        }
      ]
    },
    {
      "metadata": {
        "id": "P6DEP3WIIR9H",
        "colab_type": "text"
      },
      "cell_type": "markdown",
      "source": [
        "Accuracy of the predictions:"
      ]
    },
    {
      "metadata": {
        "id": "M5nB_s9SIR9I",
        "colab_type": "code",
        "colab": {
          "autoexec": {
            "startup": false,
            "wait_interval": 0
          },
          "output_extras": [
            {
              "item_id": 1
            }
          ],
          "base_uri": "https://localhost:8080/",
          "height": 34
        },
        "outputId": "eebc8bf0-1586-4119-ab32-4bd7f3953f49",
        "executionInfo": {
          "status": "ok",
          "timestamp": 1521192416980,
          "user_tz": -480,
          "elapsed": 816,
          "user": {
            "displayName": "iss gz",
            "photoUrl": "https://lh3.googleusercontent.com/a/default-user=s128",
            "userId": "115773849606138325373"
          }
        }
      },
      "cell_type": "code",
      "source": [
        "np.count_nonzero(y_pred == y_test)/len(y_test)"
      ],
      "execution_count": 14,
      "outputs": [
        {
          "output_type": "execute_result",
          "data": {
            "text/plain": [
              "0.877"
            ]
          },
          "metadata": {
            "tags": []
          },
          "execution_count": 14
        }
      ]
    },
    {
      "metadata": {
        "id": "gPWIIk7IIR9L",
        "colab_type": "text"
      },
      "cell_type": "markdown",
      "source": [
        "## Keras Multilayered Perceptron (Neural Net)"
      ]
    },
    {
      "metadata": {
        "id": "Nw0us64XIR9L",
        "colab_type": "code",
        "colab": {
          "autoexec": {
            "startup": false,
            "wait_interval": 0
          }
        }
      },
      "cell_type": "code",
      "source": [
        "def train_data_generator(batch_size):\n",
        "    while(1):\n",
        "        x, y = mnist.train.next_batch(batch_size)\n",
        "        yield x, y"
      ],
      "execution_count": 0,
      "outputs": []
    },
    {
      "metadata": {
        "id": "OS8oKxHPIR9O",
        "colab_type": "text"
      },
      "cell_type": "markdown",
      "source": [
        "### Zero hidden layers"
      ]
    },
    {
      "metadata": {
        "id": "FLVy6lBIIR9P",
        "colab_type": "text"
      },
      "cell_type": "markdown",
      "source": [
        "It is important to note that when we do classification problems we use the **Categorical Crossentropy Loss**. When its only two classes we can use Logistic Loss (Binary Crossentropy Loss). Finally for regression problems we use **Mean Squared Error**.\n",
        "\n",
        "The Cross Entropy loss is defined as:\n",
        "$$\\mathcal{L} = -\\frac{1}{N}\\sum_i \\mathcal{I}(y_i=1)\\log(p_{i1})+\\mathcal{I}(y_i=2)\\log(1-p_{i2})+\\cdots++\\mathcal{I}(y_i=K)\\log(1-p_{iK})$$\n",
        "where $N$ is the number of training instances, $K$ is the number of classes and $p_{ik}$ is the probability that instance $i$ belongs to $k$.\n",
        "\n",
        "Softmax takes a $D$ dimensional vector and squeezes them through a function such that we have $D$ outputs whos values are positive and sums to one.\n",
        "$$\n",
        "\\text{softmax}(\\mathbf{y})_d = \\frac{\\exp(-y_d)}{\\exp(-y_1)+...+\\exp(-y_D)}\n",
        "$$"
      ]
    },
    {
      "metadata": {
        "id": "IAcEYb9CIR9P",
        "colab_type": "code",
        "colab": {
          "autoexec": {
            "startup": false,
            "wait_interval": 0
          }
        }
      },
      "cell_type": "code",
      "source": [
        "model = Sequential()\n",
        "model.add(Dense(units=10, input_dim=num_pixels, activation='softmax'))\n",
        "model.compile(optimizer='adadelta', loss='sparse_categorical_crossentropy')"
      ],
      "execution_count": 0,
      "outputs": []
    },
    {
      "metadata": {
        "id": "pxn3kpFTIR9S",
        "colab_type": "code",
        "colab": {
          "autoexec": {
            "startup": false,
            "wait_interval": 0
          },
          "output_extras": [
            {
              "item_id": 4
            },
            {
              "item_id": 5
            }
          ],
          "base_uri": "https://localhost:8080/",
          "height": 67
        },
        "outputId": "595e70f0-3752-4dd8-d565-501db74107ab",
        "executionInfo": {
          "status": "ok",
          "timestamp": 1521192425527,
          "user_tz": -480,
          "elapsed": 1928,
          "user": {
            "displayName": "iss gz",
            "photoUrl": "https://lh3.googleusercontent.com/a/default-user=s128",
            "userId": "115773849606138325373"
          }
        }
      },
      "cell_type": "code",
      "source": [
        "batch_size = 256\n",
        "model.fit_generator(train_data_generator(batch_size=batch_size), mnist.train.num_examples//batch_size, epochs=1)"
      ],
      "execution_count": 17,
      "outputs": [
        {
          "output_type": "stream",
          "text": [
            "Epoch 1/1\n",
            "214/214 [==============================] - 1s 6ms/step - loss: 0.8342\n"
          ],
          "name": "stdout"
        },
        {
          "output_type": "execute_result",
          "data": {
            "text/plain": [
              "<keras.callbacks.History at 0x7f978fe619b0>"
            ]
          },
          "metadata": {
            "tags": []
          },
          "execution_count": 17
        }
      ]
    },
    {
      "metadata": {
        "id": "aBNpB3pGIR9X",
        "colab_type": "code",
        "colab": {
          "autoexec": {
            "startup": false,
            "wait_interval": 0
          },
          "output_extras": [
            {
              "item_id": 1
            }
          ],
          "base_uri": "https://localhost:8080/",
          "height": 51
        },
        "outputId": "dce80b6d-5c36-4899-bba0-950e222a58b8",
        "executionInfo": {
          "status": "ok",
          "timestamp": 1521192433417,
          "user_tz": -480,
          "elapsed": 752,
          "user": {
            "displayName": "iss gz",
            "photoUrl": "https://lh3.googleusercontent.com/a/default-user=s128",
            "userId": "115773849606138325373"
          }
        }
      },
      "cell_type": "code",
      "source": [
        "print(\"mnist.train.num_examples : \", mnist.train.num_examples)\n",
        "print(\"mnist.test  num_examples : \", len(y_test))"
      ],
      "execution_count": 18,
      "outputs": [
        {
          "output_type": "stream",
          "text": [
            "mnist.train.num_examples :  55000\n",
            "mnist.test  num_examples :  1000\n"
          ],
          "name": "stdout"
        }
      ]
    },
    {
      "metadata": {
        "id": "M54q18giIR9Z",
        "colab_type": "code",
        "colab": {
          "autoexec": {
            "startup": false,
            "wait_interval": 0
          },
          "output_extras": [
            {
              "item_id": 1
            }
          ],
          "base_uri": "https://localhost:8080/",
          "height": 34
        },
        "outputId": "ddf49024-1b6a-4381-8bad-29b9895bb2c4",
        "executionInfo": {
          "status": "ok",
          "timestamp": 1521192434753,
          "user_tz": -480,
          "elapsed": 765,
          "user": {
            "displayName": "iss gz",
            "photoUrl": "https://lh3.googleusercontent.com/a/default-user=s128",
            "userId": "115773849606138325373"
          }
        }
      },
      "cell_type": "code",
      "source": [
        "y_pred = model.predict_classes(x_test)\n",
        "y_pred[:10]"
      ],
      "execution_count": 19,
      "outputs": [
        {
          "output_type": "execute_result",
          "data": {
            "text/plain": [
              "array([0, 8, 4, 0, 7, 2, 3, 7, 3, 5])"
            ]
          },
          "metadata": {
            "tags": []
          },
          "execution_count": 19
        }
      ]
    },
    {
      "metadata": {
        "id": "qY_YkXtMIR9c",
        "colab_type": "code",
        "colab": {
          "autoexec": {
            "startup": false,
            "wait_interval": 0
          },
          "output_extras": [
            {
              "item_id": 1
            }
          ],
          "base_uri": "https://localhost:8080/",
          "height": 34
        },
        "outputId": "5d7b3a69-3786-4997-e3fb-2d3d1c792e04",
        "executionInfo": {
          "status": "ok",
          "timestamp": 1521192439176,
          "user_tz": -480,
          "elapsed": 737,
          "user": {
            "displayName": "iss gz",
            "photoUrl": "https://lh3.googleusercontent.com/a/default-user=s128",
            "userId": "115773849606138325373"
          }
        }
      },
      "cell_type": "code",
      "source": [
        "np.count_nonzero(y_pred == y_test)/len(y_test)"
      ],
      "execution_count": 20,
      "outputs": [
        {
          "output_type": "execute_result",
          "data": {
            "text/plain": [
              "0.874"
            ]
          },
          "metadata": {
            "tags": []
          },
          "execution_count": 20
        }
      ]
    },
    {
      "metadata": {
        "id": "T70bG5qXIR9e",
        "colab_type": "text"
      },
      "cell_type": "markdown",
      "source": [
        "### 1 Hidden Layer"
      ]
    },
    {
      "metadata": {
        "id": "pV4NwGRHIR9f",
        "colab_type": "code",
        "colab": {
          "autoexec": {
            "startup": false,
            "wait_interval": 0
          }
        }
      },
      "cell_type": "code",
      "source": [
        "model = Sequential()\n",
        "model.add(Dense(units=50, input_dim=num_pixels, activation='relu'))\n",
        "model.add(Dense(units=10, activation='softmax'))\n",
        "model.compile(optimizer='adadelta', loss='sparse_categorical_crossentropy')"
      ],
      "execution_count": 0,
      "outputs": []
    },
    {
      "metadata": {
        "id": "t6_i8vYsIR9h",
        "colab_type": "code",
        "colab": {
          "autoexec": {
            "startup": false,
            "wait_interval": 0
          },
          "output_extras": [
            {
              "item_id": 5
            },
            {
              "item_id": 6
            }
          ],
          "base_uri": "https://localhost:8080/",
          "height": 67
        },
        "outputId": "507541a6-fa8f-4146-afb3-1be1dda86987",
        "executionInfo": {
          "status": "ok",
          "timestamp": 1521192452172,
          "user_tz": -480,
          "elapsed": 1880,
          "user": {
            "displayName": "iss gz",
            "photoUrl": "https://lh3.googleusercontent.com/a/default-user=s128",
            "userId": "115773849606138325373"
          }
        }
      },
      "cell_type": "code",
      "source": [
        "batch_size = 256\n",
        "model.fit_generator(train_data_generator(batch_size=batch_size), mnist.train.num_examples//batch_size, epochs=1)"
      ],
      "execution_count": 22,
      "outputs": [
        {
          "output_type": "stream",
          "text": [
            "Epoch 1/1\n",
            "214/214 [==============================] - 1s 5ms/step - loss: 0.5294\n"
          ],
          "name": "stdout"
        },
        {
          "output_type": "execute_result",
          "data": {
            "text/plain": [
              "<keras.callbacks.History at 0x7f978a9e77f0>"
            ]
          },
          "metadata": {
            "tags": []
          },
          "execution_count": 22
        }
      ]
    },
    {
      "metadata": {
        "id": "2Lx-0l2QIR9j",
        "colab_type": "code",
        "colab": {
          "autoexec": {
            "startup": false,
            "wait_interval": 0
          },
          "output_extras": [
            {
              "item_id": 1
            }
          ],
          "base_uri": "https://localhost:8080/",
          "height": 34
        },
        "outputId": "ec2bd145-9279-4ed5-f205-e58aa8103086",
        "executionInfo": {
          "status": "ok",
          "timestamp": 1521192454804,
          "user_tz": -480,
          "elapsed": 740,
          "user": {
            "displayName": "iss gz",
            "photoUrl": "https://lh3.googleusercontent.com/a/default-user=s128",
            "userId": "115773849606138325373"
          }
        }
      },
      "cell_type": "code",
      "source": [
        "y_pred = model.predict_classes(x_test)\n",
        "np.count_nonzero(y_pred == y_test)/len(y_test)"
      ],
      "execution_count": 23,
      "outputs": [
        {
          "output_type": "execute_result",
          "data": {
            "text/plain": [
              "0.919"
            ]
          },
          "metadata": {
            "tags": []
          },
          "execution_count": 23
        }
      ]
    },
    {
      "metadata": {
        "id": "Xh-mmJDFIR9l",
        "colab_type": "code",
        "colab": {
          "autoexec": {
            "startup": false,
            "wait_interval": 0
          },
          "output_extras": [
            {
              "item_id": 1
            }
          ],
          "base_uri": "https://localhost:8080/",
          "height": 202
        },
        "outputId": "ab455928-721b-450d-cc36-7a3d338e3302",
        "executionInfo": {
          "status": "ok",
          "timestamp": 1521192468025,
          "user_tz": -480,
          "elapsed": 739,
          "user": {
            "displayName": "iss gz",
            "photoUrl": "https://lh3.googleusercontent.com/a/default-user=s128",
            "userId": "115773849606138325373"
          }
        }
      },
      "cell_type": "code",
      "source": [
        "model.summary()"
      ],
      "execution_count": 24,
      "outputs": [
        {
          "output_type": "stream",
          "text": [
            "_________________________________________________________________\n",
            "Layer (type)                 Output Shape              Param #   \n",
            "=================================================================\n",
            "dense_2 (Dense)              (None, 50)                39250     \n",
            "_________________________________________________________________\n",
            "dense_3 (Dense)              (None, 10)                510       \n",
            "=================================================================\n",
            "Total params: 39,760\n",
            "Trainable params: 39,760\n",
            "Non-trainable params: 0\n",
            "_________________________________________________________________\n"
          ],
          "name": "stdout"
        }
      ]
    },
    {
      "metadata": {
        "id": "FDAXc_9kIR9p",
        "colab_type": "code",
        "colab": {
          "autoexec": {
            "startup": false,
            "wait_interval": 0
          },
          "output_extras": [
            {
              "item_id": 1
            }
          ],
          "base_uri": "https://localhost:8080/",
          "height": 34
        },
        "outputId": "8a691078-ceab-4273-a141-739c3e3e8bd0",
        "executionInfo": {
          "status": "ok",
          "timestamp": 1521192473340,
          "user_tz": -480,
          "elapsed": 722,
          "user": {
            "displayName": "iss gz",
            "photoUrl": "https://lh3.googleusercontent.com/a/default-user=s128",
            "userId": "115773849606138325373"
          }
        }
      },
      "cell_type": "code",
      "source": [
        "784*50+50"
      ],
      "execution_count": 25,
      "outputs": [
        {
          "output_type": "execute_result",
          "data": {
            "text/plain": [
              "39250"
            ]
          },
          "metadata": {
            "tags": []
          },
          "execution_count": 25
        }
      ]
    },
    {
      "metadata": {
        "id": "wY5JuqRkIR9u",
        "colab_type": "text"
      },
      "cell_type": "markdown",
      "source": [
        "## Convolution Neural Networks (CNN)"
      ]
    },
    {
      "metadata": {
        "id": "6fag6S4LIR9v",
        "colab_type": "text"
      },
      "cell_type": "markdown",
      "source": [
        "** Points to note **\n",
        "1. One CNN, connected to **one** node above is simply a Dense layer with most weights set to zero.\n",
        "2. The same CNN, connected to multiple nodes is weight tying/ sharing.\n",
        "\n",
        "Consider the following convolution mask:\n",
        "<img src='https://ujwlkarn.files.wordpress.com/2016/07/screen-shot-2016-07-24-at-11-25-24-pm.png?w=74&h=64'>\n",
        "<img src='https://ujwlkarn.files.wordpress.com/2016/07/convolution_schematic.gif?w=536&h=392'>"
      ]
    },
    {
      "metadata": {
        "id": "pT3s7xYTIR9w",
        "colab_type": "code",
        "colab": {
          "autoexec": {
            "startup": false,
            "wait_interval": 0
          }
        }
      },
      "cell_type": "code",
      "source": [
        "# Need to reshape the x values to a 28x28 image\n",
        "def train_data_generator(batch_size):\n",
        "    while(1):\n",
        "        x, y = mnist.train.next_batch(batch_size)\n",
        "        yield x.reshape((-1,28,28,1)), y"
      ],
      "execution_count": 0,
      "outputs": []
    },
    {
      "metadata": {
        "id": "8ArOsT6aIR9z",
        "colab_type": "code",
        "colab": {
          "autoexec": {
            "startup": false,
            "wait_interval": 0
          }
        }
      },
      "cell_type": "code",
      "source": [
        "model = Sequential()\n",
        "model.add(Conv2D(32, kernel_size=(3,3), padding='same', activation='relu', input_shape = (width,height,1)))\n",
        "model.add(Flatten())\n",
        "model.add(Dense(10, activation='softmax'))\n",
        "model.compile(optimizer='adadelta', loss='sparse_categorical_crossentropy')"
      ],
      "execution_count": 0,
      "outputs": []
    },
    {
      "metadata": {
        "id": "LeYLj_Q_IR90",
        "colab_type": "code",
        "colab": {
          "autoexec": {
            "startup": false,
            "wait_interval": 0
          },
          "output_extras": [
            {
              "item_id": 1
            }
          ],
          "base_uri": "https://localhost:8080/",
          "height": 235
        },
        "outputId": "1afb9a0c-0caa-4910-92a5-ad3c6e8b3462",
        "executionInfo": {
          "status": "ok",
          "timestamp": 1521192480685,
          "user_tz": -480,
          "elapsed": 727,
          "user": {
            "displayName": "iss gz",
            "photoUrl": "https://lh3.googleusercontent.com/a/default-user=s128",
            "userId": "115773849606138325373"
          }
        }
      },
      "cell_type": "code",
      "source": [
        "model.summary()"
      ],
      "execution_count": 28,
      "outputs": [
        {
          "output_type": "stream",
          "text": [
            "_________________________________________________________________\n",
            "Layer (type)                 Output Shape              Param #   \n",
            "=================================================================\n",
            "conv2d_1 (Conv2D)            (None, 28, 28, 32)        320       \n",
            "_________________________________________________________________\n",
            "flatten_1 (Flatten)          (None, 25088)             0         \n",
            "_________________________________________________________________\n",
            "dense_4 (Dense)              (None, 10)                250890    \n",
            "=================================================================\n",
            "Total params: 251,210\n",
            "Trainable params: 251,210\n",
            "Non-trainable params: 0\n",
            "_________________________________________________________________\n"
          ],
          "name": "stdout"
        }
      ]
    },
    {
      "metadata": {
        "id": "Fvgr2964IR92",
        "colab_type": "code",
        "colab": {
          "autoexec": {
            "startup": false,
            "wait_interval": 0
          },
          "output_extras": [
            {
              "item_id": 1
            }
          ],
          "base_uri": "https://localhost:8080/",
          "height": 34
        },
        "outputId": "744b4497-4f45-47f8-c3b3-3c7702832eef",
        "executionInfo": {
          "status": "ok",
          "timestamp": 1521192492815,
          "user_tz": -480,
          "elapsed": 732,
          "user": {
            "displayName": "iss gz",
            "photoUrl": "https://lh3.googleusercontent.com/a/default-user=s128",
            "userId": "115773849606138325373"
          }
        }
      },
      "cell_type": "code",
      "source": [
        "28*28*32"
      ],
      "execution_count": 29,
      "outputs": [
        {
          "output_type": "execute_result",
          "data": {
            "text/plain": [
              "25088"
            ]
          },
          "metadata": {
            "tags": []
          },
          "execution_count": 29
        }
      ]
    },
    {
      "metadata": {
        "id": "QUidTBKiIR93",
        "colab_type": "code",
        "colab": {
          "autoexec": {
            "startup": false,
            "wait_interval": 0
          },
          "output_extras": [
            {
              "item_id": 12
            },
            {
              "item_id": 13
            }
          ],
          "base_uri": "https://localhost:8080/",
          "height": 67
        },
        "outputId": "01dfdabb-039e-4899-871c-a51d3e0f48ae",
        "executionInfo": {
          "status": "ok",
          "timestamp": 1521192498119,
          "user_tz": -480,
          "elapsed": 4421,
          "user": {
            "displayName": "iss gz",
            "photoUrl": "https://lh3.googleusercontent.com/a/default-user=s128",
            "userId": "115773849606138325373"
          }
        }
      },
      "cell_type": "code",
      "source": [
        "batch_size = 256\n",
        "model.fit_generator(train_data_generator(batch_size=batch_size), mnist.train.num_examples//batch_size, epochs=1)"
      ],
      "execution_count": 30,
      "outputs": [
        {
          "output_type": "stream",
          "text": [
            "Epoch 1/1\n",
            "214/214 [==============================] - 4s 17ms/step - loss: 0.3881\n"
          ],
          "name": "stdout"
        },
        {
          "output_type": "execute_result",
          "data": {
            "text/plain": [
              "<keras.callbacks.History at 0x7f978fe80710>"
            ]
          },
          "metadata": {
            "tags": []
          },
          "execution_count": 30
        }
      ]
    },
    {
      "metadata": {
        "id": "QRhgd1CNIR95",
        "colab_type": "code",
        "colab": {
          "autoexec": {
            "startup": false,
            "wait_interval": 0
          },
          "output_extras": [
            {
              "item_id": 1
            }
          ],
          "base_uri": "https://localhost:8080/",
          "height": 34
        },
        "outputId": "18a62965-7273-4a51-9ae5-f64bc4fac1b7",
        "executionInfo": {
          "status": "ok",
          "timestamp": 1521192500284,
          "user_tz": -480,
          "elapsed": 779,
          "user": {
            "displayName": "iss gz",
            "photoUrl": "https://lh3.googleusercontent.com/a/default-user=s128",
            "userId": "115773849606138325373"
          }
        }
      },
      "cell_type": "code",
      "source": [
        "y_pred = model.predict_classes(x_test.reshape((-1,28,28,1)))\n",
        "np.count_nonzero(y_pred == y_test)/len(y_test)"
      ],
      "execution_count": 31,
      "outputs": [
        {
          "output_type": "execute_result",
          "data": {
            "text/plain": [
              "0.955"
            ]
          },
          "metadata": {
            "tags": []
          },
          "execution_count": 31
        }
      ]
    },
    {
      "metadata": {
        "id": "5gCk7QKTIR97",
        "colab_type": "text"
      },
      "cell_type": "markdown",
      "source": [
        "### Using the max pooling layer:"
      ]
    },
    {
      "metadata": {
        "id": "lgr_DXiWIR97",
        "colab_type": "code",
        "colab": {
          "autoexec": {
            "startup": false,
            "wait_interval": 0
          }
        }
      },
      "cell_type": "code",
      "source": [
        "model = Sequential()\n",
        "model.add(Conv2D(32, kernel_size=(3,3), padding='same', activation='relu', input_shape = (width,height,1)))\n",
        "model.add(MaxPool2D(pool_size=(2, 2)))\n",
        "# model.add(Conv2D(32, kernel_size=(3,3), padding='same', activation='relu'))\n",
        "# model.add(MaxPool2D(pool_size=(2, 2)))\n",
        "# model.add(Conv2D(32, kernel_size=(3,3), padding='same', activation='relu'))\n",
        "# model.add(MaxPool2D(pool_size=(2, 2)))\n",
        "model.add(Flatten())\n",
        "model.add(Dense(10, activation='softmax'))\n",
        "model.compile(optimizer='adadelta', loss='sparse_categorical_crossentropy')"
      ],
      "execution_count": 0,
      "outputs": []
    },
    {
      "metadata": {
        "id": "ac_jwVsyIR99",
        "colab_type": "code",
        "colab": {
          "autoexec": {
            "startup": false,
            "wait_interval": 0
          },
          "output_extras": [
            {
              "item_id": 1
            }
          ],
          "base_uri": "https://localhost:8080/",
          "height": 269
        },
        "outputId": "1724dcaf-e946-4690-c59b-8cf79fef3d42",
        "executionInfo": {
          "status": "ok",
          "timestamp": 1521192518057,
          "user_tz": -480,
          "elapsed": 726,
          "user": {
            "displayName": "iss gz",
            "photoUrl": "https://lh3.googleusercontent.com/a/default-user=s128",
            "userId": "115773849606138325373"
          }
        }
      },
      "cell_type": "code",
      "source": [
        "model.summary()"
      ],
      "execution_count": 33,
      "outputs": [
        {
          "output_type": "stream",
          "text": [
            "_________________________________________________________________\n",
            "Layer (type)                 Output Shape              Param #   \n",
            "=================================================================\n",
            "conv2d_2 (Conv2D)            (None, 28, 28, 32)        320       \n",
            "_________________________________________________________________\n",
            "max_pooling2d_1 (MaxPooling2 (None, 14, 14, 32)        0         \n",
            "_________________________________________________________________\n",
            "flatten_2 (Flatten)          (None, 6272)              0         \n",
            "_________________________________________________________________\n",
            "dense_5 (Dense)              (None, 10)                62730     \n",
            "=================================================================\n",
            "Total params: 63,050\n",
            "Trainable params: 63,050\n",
            "Non-trainable params: 0\n",
            "_________________________________________________________________\n"
          ],
          "name": "stdout"
        }
      ]
    },
    {
      "metadata": {
        "id": "j0Fcdko9IR9_",
        "colab_type": "code",
        "colab": {
          "autoexec": {
            "startup": false,
            "wait_interval": 0
          },
          "output_extras": [
            {
              "item_id": 1
            }
          ],
          "base_uri": "https://localhost:8080/",
          "height": 34
        },
        "outputId": "f7b49c96-a009-4027-be74-01fb424d81f5",
        "executionInfo": {
          "status": "ok",
          "timestamp": 1521192519045,
          "user_tz": -480,
          "elapsed": 848,
          "user": {
            "displayName": "iss gz",
            "photoUrl": "https://lh3.googleusercontent.com/a/default-user=s128",
            "userId": "115773849606138325373"
          }
        }
      },
      "cell_type": "code",
      "source": [
        "14*14*32"
      ],
      "execution_count": 34,
      "outputs": [
        {
          "output_type": "execute_result",
          "data": {
            "text/plain": [
              "6272"
            ]
          },
          "metadata": {
            "tags": []
          },
          "execution_count": 34
        }
      ]
    },
    {
      "metadata": {
        "id": "k2dAqrQrIR-B",
        "colab_type": "code",
        "colab": {
          "autoexec": {
            "startup": false,
            "wait_interval": 0
          },
          "output_extras": [
            {
              "item_id": 10
            },
            {
              "item_id": 11
            }
          ],
          "base_uri": "https://localhost:8080/",
          "height": 67
        },
        "outputId": "48aa36e6-2893-4f16-9b2a-73c1ec6608b9",
        "executionInfo": {
          "status": "ok",
          "timestamp": 1521192526511,
          "user_tz": -480,
          "elapsed": 3582,
          "user": {
            "displayName": "iss gz",
            "photoUrl": "https://lh3.googleusercontent.com/a/default-user=s128",
            "userId": "115773849606138325373"
          }
        }
      },
      "cell_type": "code",
      "source": [
        "batch_size = 256\n",
        "model.fit_generator(train_data_generator(batch_size=batch_size), mnist.train.num_examples//batch_size, epochs=1)"
      ],
      "execution_count": 35,
      "outputs": [
        {
          "output_type": "stream",
          "text": [
            "Epoch 1/1\n",
            "214/214 [==============================] - 3s 13ms/step - loss: 0.4468\n"
          ],
          "name": "stdout"
        },
        {
          "output_type": "execute_result",
          "data": {
            "text/plain": [
              "<keras.callbacks.History at 0x7f978ff67c88>"
            ]
          },
          "metadata": {
            "tags": []
          },
          "execution_count": 35
        }
      ]
    },
    {
      "metadata": {
        "id": "7h39SVfpIR-C",
        "colab_type": "code",
        "colab": {
          "autoexec": {
            "startup": false,
            "wait_interval": 0
          },
          "output_extras": [
            {
              "item_id": 1
            }
          ],
          "base_uri": "https://localhost:8080/",
          "height": 34
        },
        "outputId": "86fdd0b8-4d71-4c21-8581-9fb8639d81f9",
        "executionInfo": {
          "status": "ok",
          "timestamp": 1521192704717,
          "user_tz": -480,
          "elapsed": 753,
          "user": {
            "displayName": "iss gz",
            "photoUrl": "https://lh3.googleusercontent.com/a/default-user=s128",
            "userId": "115773849606138325373"
          }
        }
      },
      "cell_type": "code",
      "source": [
        "y_pred = model.predict_classes(x_test.reshape((-1,28,28,1)))\n",
        "np.count_nonzero(y_pred == y_test)/len(y_test)"
      ],
      "execution_count": 36,
      "outputs": [
        {
          "output_type": "execute_result",
          "data": {
            "text/plain": [
              "0.937"
            ]
          },
          "metadata": {
            "tags": []
          },
          "execution_count": 36
        }
      ]
    },
    {
      "metadata": {
        "id": "hWQM38hvIR-E",
        "colab_type": "text"
      },
      "cell_type": "markdown",
      "source": [
        "## Multi Layer Convolutional Network:"
      ]
    },
    {
      "metadata": {
        "id": "m0LOCxE_IR-F",
        "colab_type": "code",
        "colab": {
          "autoexec": {
            "startup": false,
            "wait_interval": 0
          }
        }
      },
      "cell_type": "code",
      "source": [
        "model = Sequential()\n",
        "model.add(Conv2D(32, kernel_size=(3,3), padding='same', activation='relu', input_shape = (width,height,1)))\n",
        "model.add(MaxPool2D(pool_size=(2, 2)))\n",
        "model.add(Conv2D(32, kernel_size=(3,3), padding='same', activation='relu'))\n",
        "model.add(MaxPool2D(pool_size=(2, 2)))\n",
        "model.add(Conv2D(32, kernel_size=(3,3), padding='same', activation='relu'))\n",
        "model.add(MaxPool2D(pool_size=(2, 2)))\n",
        "model.add(Flatten())\n",
        "model.add(Dense(10, activation='softmax'))\n",
        "model.compile(optimizer='adadelta', loss='sparse_categorical_crossentropy')"
      ],
      "execution_count": 0,
      "outputs": []
    },
    {
      "metadata": {
        "id": "8K7GEY7oIR-G",
        "colab_type": "code",
        "colab": {
          "autoexec": {
            "startup": false,
            "wait_interval": 0
          },
          "output_extras": [
            {
              "item_id": 1
            }
          ],
          "base_uri": "https://localhost:8080/",
          "height": 403
        },
        "outputId": "d94d16a9-16fe-4d97-da90-33c6aef3e670",
        "executionInfo": {
          "status": "ok",
          "timestamp": 1521192710325,
          "user_tz": -480,
          "elapsed": 732,
          "user": {
            "displayName": "iss gz",
            "photoUrl": "https://lh3.googleusercontent.com/a/default-user=s128",
            "userId": "115773849606138325373"
          }
        }
      },
      "cell_type": "code",
      "source": [
        "model.summary()"
      ],
      "execution_count": 38,
      "outputs": [
        {
          "output_type": "stream",
          "text": [
            "_________________________________________________________________\n",
            "Layer (type)                 Output Shape              Param #   \n",
            "=================================================================\n",
            "conv2d_3 (Conv2D)            (None, 28, 28, 32)        320       \n",
            "_________________________________________________________________\n",
            "max_pooling2d_2 (MaxPooling2 (None, 14, 14, 32)        0         \n",
            "_________________________________________________________________\n",
            "conv2d_4 (Conv2D)            (None, 14, 14, 32)        9248      \n",
            "_________________________________________________________________\n",
            "max_pooling2d_3 (MaxPooling2 (None, 7, 7, 32)          0         \n",
            "_________________________________________________________________\n",
            "conv2d_5 (Conv2D)            (None, 7, 7, 32)          9248      \n",
            "_________________________________________________________________\n",
            "max_pooling2d_4 (MaxPooling2 (None, 3, 3, 32)          0         \n",
            "_________________________________________________________________\n",
            "flatten_3 (Flatten)          (None, 288)               0         \n",
            "_________________________________________________________________\n",
            "dense_6 (Dense)              (None, 10)                2890      \n",
            "=================================================================\n",
            "Total params: 21,706\n",
            "Trainable params: 21,706\n",
            "Non-trainable params: 0\n",
            "_________________________________________________________________\n"
          ],
          "name": "stdout"
        }
      ]
    },
    {
      "metadata": {
        "id": "ZnqjMsGzIR-I",
        "colab_type": "text"
      },
      "cell_type": "markdown",
      "source": [
        "### Iteratively machine learning: scanning through entire training image set only once: epochs=1"
      ]
    },
    {
      "metadata": {
        "id": "6nqE-KsLIR-L",
        "colab_type": "code",
        "colab": {
          "autoexec": {
            "startup": false,
            "wait_interval": 0
          },
          "output_extras": [
            {
              "item_id": 14
            },
            {
              "item_id": 15
            }
          ],
          "base_uri": "https://localhost:8080/",
          "height": 67
        },
        "outputId": "2fc3a086-7cb9-402d-d296-ec0d826504f0",
        "executionInfo": {
          "status": "ok",
          "timestamp": 1521192718527,
          "user_tz": -480,
          "elapsed": 4984,
          "user": {
            "displayName": "iss gz",
            "photoUrl": "https://lh3.googleusercontent.com/a/default-user=s128",
            "userId": "115773849606138325373"
          }
        }
      },
      "cell_type": "code",
      "source": [
        "batch_size = 256\n",
        "model.fit_generator(train_data_generator(batch_size=batch_size), mnist.train.num_examples//batch_size, epochs=1)"
      ],
      "execution_count": 39,
      "outputs": [
        {
          "output_type": "stream",
          "text": [
            "Epoch 1/1\n",
            "214/214 [==============================] - 4s 19ms/step - loss: 0.4721\n"
          ],
          "name": "stdout"
        },
        {
          "output_type": "execute_result",
          "data": {
            "text/plain": [
              "<keras.callbacks.History at 0x7f978951eef0>"
            ]
          },
          "metadata": {
            "tags": []
          },
          "execution_count": 39
        }
      ]
    },
    {
      "metadata": {
        "id": "BoeyXTjyIR-P",
        "colab_type": "code",
        "colab": {
          "autoexec": {
            "startup": false,
            "wait_interval": 0
          },
          "output_extras": [
            {
              "item_id": 1
            }
          ],
          "base_uri": "https://localhost:8080/",
          "height": 34
        },
        "outputId": "33cc5085-143d-4a4f-c82f-c0b6be685373",
        "executionInfo": {
          "status": "ok",
          "timestamp": 1521192720412,
          "user_tz": -480,
          "elapsed": 706,
          "user": {
            "displayName": "iss gz",
            "photoUrl": "https://lh3.googleusercontent.com/a/default-user=s128",
            "userId": "115773849606138325373"
          }
        }
      },
      "cell_type": "code",
      "source": [
        "y_pred = model.predict_classes(x_test.reshape((-1,28,28,1)))\n",
        "np.count_nonzero(y_pred == y_test)/len(y_test)"
      ],
      "execution_count": 40,
      "outputs": [
        {
          "output_type": "execute_result",
          "data": {
            "text/plain": [
              "0.975"
            ]
          },
          "metadata": {
            "tags": []
          },
          "execution_count": 40
        }
      ]
    },
    {
      "metadata": {
        "id": "fJPihMJoIR-R",
        "colab_type": "text"
      },
      "cell_type": "markdown",
      "source": [
        "### Iteratively machine learning: scanning through entire training image set for 10 times: epochs=10"
      ]
    },
    {
      "metadata": {
        "id": "9x95c76xIR-S",
        "colab_type": "code",
        "colab": {
          "autoexec": {
            "startup": false,
            "wait_interval": 0
          },
          "output_extras": [
            {
              "item_id": 72
            },
            {
              "item_id": 99
            },
            {
              "item_id": 100
            }
          ],
          "base_uri": "https://localhost:8080/",
          "height": 370
        },
        "outputId": "8f84f171-6601-4b0a-ba3a-726012611a06",
        "executionInfo": {
          "status": "ok",
          "timestamp": 1521192774478,
          "user_tz": -480,
          "elapsed": 39594,
          "user": {
            "displayName": "iss gz",
            "photoUrl": "https://lh3.googleusercontent.com/a/default-user=s128",
            "userId": "115773849606138325373"
          }
        }
      },
      "cell_type": "code",
      "source": [
        "batch_size = 256\n",
        "model.fit_generator(train_data_generator(batch_size=batch_size), mnist.train.num_examples//batch_size, epochs=10)"
      ],
      "execution_count": 41,
      "outputs": [
        {
          "output_type": "stream",
          "text": [
            "Epoch 1/10\n",
            "214/214 [==============================] - 4s 18ms/step - loss: 0.1000\n",
            "Epoch 2/10\n",
            "214/214 [==============================] - 4s 18ms/step - loss: 0.0704\n",
            "Epoch 3/10\n",
            "214/214 [==============================] - 4s 18ms/step - loss: 0.0550\n",
            "Epoch 4/10\n",
            "214/214 [==============================] - 4s 18ms/step - loss: 0.0472\n",
            "Epoch 5/10\n",
            "214/214 [==============================] - 4s 18ms/step - loss: 0.0404\n",
            "Epoch 6/10\n",
            " 79/214 [==========>...................] - ETA: 2s - loss: 0.0334"
          ],
          "name": "stdout"
        },
        {
          "output_type": "stream",
          "text": [
            "214/214 [==============================] - 4s 18ms/step - loss: 0.0328\n",
            "Epoch 7/10\n",
            "214/214 [==============================] - 4s 18ms/step - loss: 0.0305\n",
            "Epoch 8/10\n",
            "214/214 [==============================] - 4s 18ms/step - loss: 0.0290\n",
            "Epoch 9/10\n",
            "214/214 [==============================] - 4s 18ms/step - loss: 0.0256\n",
            "Epoch 10/10\n",
            "214/214 [==============================] - 4s 18ms/step - loss: 0.0229\n"
          ],
          "name": "stdout"
        },
        {
          "output_type": "execute_result",
          "data": {
            "text/plain": [
              "<keras.callbacks.History at 0x7f978916f0b8>"
            ]
          },
          "metadata": {
            "tags": []
          },
          "execution_count": 41
        }
      ]
    },
    {
      "metadata": {
        "id": "EpuXmY3bIR-U",
        "colab_type": "code",
        "colab": {
          "autoexec": {
            "startup": false,
            "wait_interval": 0
          },
          "output_extras": [
            {
              "item_id": 1
            }
          ],
          "base_uri": "https://localhost:8080/",
          "height": 34
        },
        "outputId": "0fede346-345a-45e0-94c7-7cb40d1472ff",
        "executionInfo": {
          "status": "ok",
          "timestamp": 1521192802895,
          "user_tz": -480,
          "elapsed": 708,
          "user": {
            "displayName": "iss gz",
            "photoUrl": "https://lh3.googleusercontent.com/a/default-user=s128",
            "userId": "115773849606138325373"
          }
        }
      },
      "cell_type": "code",
      "source": [
        "y_pred = model.predict_classes(x_test.reshape((-1,28,28,1)))\n",
        "np.count_nonzero(y_pred == y_test)/len(y_test)"
      ],
      "execution_count": 42,
      "outputs": [
        {
          "output_type": "execute_result",
          "data": {
            "text/plain": [
              "0.995"
            ]
          },
          "metadata": {
            "tags": []
          },
          "execution_count": 42
        }
      ]
    },
    {
      "metadata": {
        "id": "-iZKFrqiIR-Y",
        "colab_type": "text"
      },
      "cell_type": "markdown",
      "source": [
        "---"
      ]
    }
  ]
}